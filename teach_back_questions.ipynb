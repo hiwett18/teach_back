{
 "cells": [
  {
   "cell_type": "code",
   "execution_count": 13,
   "metadata": {},
   "outputs": [],
   "source": [
    "#create a parent class called Dad that has three methods: __init__, who_am_i, and eat\n",
    "#the init method does not need to have an attribute. You can just have print statement that prints something   \n",
    "#create an instance called myparent that calls the Dad class and execute. \n",
    "#use the dot notation to call the Dad methods \n",
    "\n"
   ]
  },
  {
   "cell_type": "code",
   "execution_count": 5,
   "metadata": {},
   "outputs": [],
   "source": [
    "class Dad():\n",
    "    def __init__(self):\n",
    "        print (\"Parent Created\")\n",
    "    \n",
    "    def who_am_i(self):\n",
    "        print(\"I am the Dad\")\n",
    "    \n",
    "    def eat(self):\n",
    "        print (\"I eat\")"
   ]
  },
  {
   "cell_type": "code",
   "execution_count": 6,
   "metadata": {},
   "outputs": [
    {
     "name": "stdout",
     "output_type": "stream",
     "text": [
      "Parent Created\n"
     ]
    }
   ],
   "source": [
    "myparent = Dad()"
   ]
  },
  {
   "cell_type": "code",
   "execution_count": 7,
   "metadata": {},
   "outputs": [
    {
     "name": "stdout",
     "output_type": "stream",
     "text": [
      "I eat\n"
     ]
    }
   ],
   "source": [
    "myparent.eat()"
   ]
  },
  {
   "cell_type": "code",
   "execution_count": 8,
   "metadata": {},
   "outputs": [
    {
     "name": "stdout",
     "output_type": "stream",
     "text": [
      "I am the Dad\n"
     ]
    }
   ],
   "source": [
    "myparent.who_am_i()"
   ]
  },
  {
   "cell_type": "markdown",
   "metadata": {},
   "source": [
    "#create a child class called Child1 that will inherit all the methods of Dad class \n",
    "\n",
    "#create an instance called mychild that calls the Child1 class and execute.\n"
   ]
  },
  {
   "cell_type": "code",
   "execution_count": 27,
   "metadata": {},
   "outputs": [],
   "source": [
    "class Dad():\n",
    "    def __init__(self):\n",
    "        print (\"Parent Created\")\n",
    "    \n",
    "    def who_am_i(self):\n",
    "        print(\"I am the Dad\")\n",
    "    \n",
    "    def eat(self):\n",
    "        print (\"I eat\")\n",
    "\n",
    "\n",
    "class Child1(Dad): \n",
    "    def __init__(self): \n",
    "        Dad.__init__(self)\n",
    "        print(\"Child Created\")\n",
    "\n",
    "   \n",
    "\n"
   ]
  },
  {
   "cell_type": "code",
   "execution_count": 22,
   "metadata": {},
   "outputs": [
    {
     "name": "stdout",
     "output_type": "stream",
     "text": [
      "Parent Created\n",
      "Child Created\n"
     ]
    }
   ],
   "source": [
    "\n",
    "mychild = Child1()"
   ]
  },
  {
   "cell_type": "code",
   "execution_count": 23,
   "metadata": {},
   "outputs": [
    {
     "name": "stdout",
     "output_type": "stream",
     "text": [
      "I am the Dad\n"
     ]
    }
   ],
   "source": [
    "mychild.who_am_i()"
   ]
  },
  {
   "cell_type": "code",
   "execution_count": 12,
   "metadata": {},
   "outputs": [
    {
     "name": "stdout",
     "output_type": "stream",
     "text": [
      "I eat\n"
     ]
    }
   ],
   "source": [
    "mychild.eat()"
   ]
  },
  {
   "cell_type": "markdown",
   "metadata": {},
   "source": [
    "#what is method overriding? which method do we want to override? "
   ]
  },
  {
   "cell_type": "code",
   "execution_count": 24,
   "metadata": {},
   "outputs": [],
   "source": [
    "class Dad():\n",
    "    def __init__(self):\n",
    "        print (\"Parent Created\")\n",
    "    \n",
    "    def who_am_i(self):\n",
    "        print(\"I am the Dad\")\n",
    "    \n",
    "    def eat(self):\n",
    "        print (\"I eat\")\n",
    "\n",
    "\n",
    "class Child1(Dad): \n",
    "    def __init__(self): \n",
    "        Dad.__init__(self)\n",
    "        print(\"Child Created\")\n",
    "    \n",
    "    def who_am_i(self):\n",
    "        print(\"I am the child\")"
   ]
  },
  {
   "cell_type": "code",
   "execution_count": 25,
   "metadata": {},
   "outputs": [
    {
     "name": "stdout",
     "output_type": "stream",
     "text": [
      "Parent Created\n",
      "Child Created\n"
     ]
    }
   ],
   "source": [
    "mychild = Child1()"
   ]
  },
  {
   "cell_type": "code",
   "execution_count": 26,
   "metadata": {},
   "outputs": [
    {
     "name": "stdout",
     "output_type": "stream",
     "text": [
      "I am the child\n"
     ]
    }
   ],
   "source": [
    "mychild.who_am_i()"
   ]
  },
  {
   "cell_type": "code",
   "execution_count": 33,
   "metadata": {},
   "outputs": [],
   "source": [
    "#Declaration vs Instance:\n",
    "#From the following code, which one is the class attribute? \n",
    "#how do we write the instance of class Hello?\n",
    "\n",
    "# Class Declaration\n",
    "class Hello: \n",
    "    i = 12345\n",
    "    \n",
    "    def f(self):\n",
    "        return 'hello world'"
   ]
  },
  {
   "cell_type": "code",
   "execution_count": 37,
   "metadata": {},
   "outputs": [
    {
     "name": "stdout",
     "output_type": "stream",
     "text": [
      "12345\n",
      "hello world\n"
     ]
    }
   ],
   "source": [
    "# instance of class Hello\n",
    "x = Hello()\n",
    "print(x.i)\n",
    "print(x.f())\n"
   ]
  },
  {
   "cell_type": "markdown",
   "metadata": {},
   "source": [
    "------- is a way to refer ot the class itself for reference. "
   ]
  },
  {
   "cell_type": "markdown",
   "metadata": {},
   "source": [
    "From the following code, what allows us to access the attributes or methods of the object s? \n",
    "s = Example()\n",
    "    s.arg1\n",
    "    s.method1()"
   ]
  },
  {
   "cell_type": "code",
   "execution_count": 4,
   "metadata": {},
   "outputs": [],
   "source": [
    "class Book():\n",
    "    def __init__(self, title, author, length):\n",
    "        self.title = title\n",
    "        self.author = author\n",
    "        self.length = length \n",
    "    \n",
    "    def __str__(self):\n",
    "        return f\"{self.title} by {self.author}\"\n",
    "    "
   ]
  },
  {
   "cell_type": "code",
   "execution_count": 5,
   "metadata": {},
   "outputs": [
    {
     "name": "stdout",
     "output_type": "stream",
     "text": [
      "Python 101 by Jake\n"
     ]
    }
   ],
   "source": [
    "b = Book(\"Python 101\", \"Jake\", 200)\n",
    "print(b)"
   ]
  },
  {
   "cell_type": "code",
   "execution_count": null,
   "metadata": {},
   "outputs": [],
   "source": []
  }
 ],
 "metadata": {
  "interpreter": {
   "hash": "aee8b7b246df8f9039afb4144a1f6fd8d2ca17a180786b69acc140d282b71a49"
  },
  "kernelspec": {
   "display_name": "Python 3.10.0 64-bit",
   "language": "python",
   "name": "python3"
  },
  "language_info": {
   "codemirror_mode": {
    "name": "ipython",
    "version": 3
   },
   "file_extension": ".py",
   "mimetype": "text/x-python",
   "name": "python",
   "nbconvert_exporter": "python",
   "pygments_lexer": "ipython3",
   "version": "3.10.0"
  },
  "orig_nbformat": 4
 },
 "nbformat": 4,
 "nbformat_minor": 2
}
