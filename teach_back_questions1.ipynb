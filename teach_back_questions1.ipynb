{
 "cells": [
  {
   "cell_type": "code",
   "execution_count": 13,
   "metadata": {},
   "outputs": [],
   "source": [
    "#create a parent class called Dad that has three methods: __init__, who_am_i, and eat\n",
    "#the init method does not need to have an attribute. You can just have print statement that prints something   \n",
    "#create an instance called myparent that calls the Dad class and execute. \n",
    "#use the dot notation to call the Dad methods \n",
    "\n"
   ]
  },
  {
   "cell_type": "code",
   "execution_count": null,
   "metadata": {},
   "outputs": [],
   "source": [
    "#create a child class called Child1 that will inherit all the methods of Dad class \n",
    "\n",
    "#create an instance called mychild that calls the Child1 class and execute."
   ]
  },
  {
   "cell_type": "code",
   "execution_count": null,
   "metadata": {},
   "outputs": [],
   "source": [
    "#what is method overriding? which method do we want to override from the parent class? "
   ]
  },
  {
   "cell_type": "code",
   "execution_count": 2,
   "metadata": {},
   "outputs": [],
   "source": [
    "#Declaration vs Instance:\n",
    "#From the following code, which one is the class attribute? \n",
    "#how do we write the instance of class Hello?\n",
    "\n",
    "# Class Declaration\n",
    "class Hello: \n",
    "    i = 12345\n",
    "    \n",
    "    def f(self):\n",
    "        return 'hello world'"
   ]
  },
  {
   "cell_type": "code",
   "execution_count": 3,
   "metadata": {},
   "outputs": [
    {
     "name": "stdout",
     "output_type": "stream",
     "text": [
      "12345\n",
      "hello world\n"
     ]
    }
   ],
   "source": [
    "# instance of class Hello\n",
    "x = Hello()\n",
    "print(x.i)\n",
    "print(x.f())\n"
   ]
  },
  {
   "cell_type": "markdown",
   "metadata": {},
   "source": [
    "------- is a way to refer ot the class itself for reference. "
   ]
  },
  {
   "cell_type": "markdown",
   "metadata": {},
   "source": [
    "From the following code, what allows us to access the attributes or methods of the object s? \n"
   ]
  },
  {
   "cell_type": "code",
   "execution_count": 4,
   "metadata": {},
   "outputs": [
    {
     "name": "stdout",
     "output_type": "stream",
     "text": [
      "12345\n",
      "hello world\n"
     ]
    }
   ],
   "source": [
    "s = Hello()\n",
    "print(s.i)\n",
    "print(s.f())"
   ]
  }
 ],
 "metadata": {
  "interpreter": {
   "hash": "aee8b7b246df8f9039afb4144a1f6fd8d2ca17a180786b69acc140d282b71a49"
  },
  "kernelspec": {
   "display_name": "Python 3.10.0 64-bit",
   "language": "python",
   "name": "python3"
  },
  "language_info": {
   "codemirror_mode": {
    "name": "ipython",
    "version": 3
   },
   "file_extension": ".py",
   "mimetype": "text/x-python",
   "name": "python",
   "nbconvert_exporter": "python",
   "pygments_lexer": "ipython3",
   "version": "3.10.0"
  },
  "orig_nbformat": 4
 },
 "nbformat": 4,
 "nbformat_minor": 2
}
